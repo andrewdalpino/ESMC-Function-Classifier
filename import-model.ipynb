{
 "cells": [
  {
   "cell_type": "code",
   "execution_count": null,
   "id": "0ba2f310",
   "metadata": {},
   "outputs": [],
   "source": [
    "from src.esmc_function_classifier.model import EsmcGoTermClassifier\n",
    "\n",
    "model_name = \"andrewdalpino/ESMC-300M-Protein-Function\"\n",
    "\n",
    "model = EsmcGoTermClassifier.from_pretrained(model_name)\n",
    "\n",
    "model.eval()\n",
    "\n",
    "print(f\"Model has {model.num_params:,} parameters.\")"
   ]
  }
 ],
 "metadata": {
  "kernelspec": {
   "display_name": ".venv",
   "language": "python",
   "name": "python3"
  },
  "language_info": {
   "codemirror_mode": {
    "name": "ipython",
    "version": 3
   },
   "file_extension": ".py",
   "mimetype": "text/x-python",
   "name": "python",
   "nbconvert_exporter": "python",
   "pygments_lexer": "ipython3",
   "version": "3.12.3"
  }
 },
 "nbformat": 4,
 "nbformat_minor": 5
}
